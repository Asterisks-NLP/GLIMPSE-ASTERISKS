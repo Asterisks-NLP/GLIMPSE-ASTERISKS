{
 "cells": [
  {
   "cell_type": "markdown",
   "metadata": {
    "id": "3uc9C_jtoyjq"
   },
   "source": [
    "## Navigate to Root Folder"
   ]
  },
  {
   "cell_type": "code",
   "execution_count": null,
   "metadata": {
    "colab": {
     "base_uri": "https://localhost:8080/"
    },
    "executionInfo": {
     "elapsed": 16530,
     "status": "ok",
     "timestamp": 1739524646964,
     "user": {
      "displayName": "Arvin Esmaeily",
      "userId": "16868971089945601987"
     },
     "user_tz": -60
    },
    "id": "bZ2QlfffVZG5",
    "outputId": "0e75a843-1068-492f-d8e3-6fe5d6d5df35"
   },
   "outputs": [],
   "source": [
    "from google.colab import drive\n",
    "drive.mount('/content/drive')"
   ]
  },
  {
   "cell_type": "code",
   "execution_count": null,
   "metadata": {
    "colab": {
     "base_uri": "https://localhost:8080/"
    },
    "executionInfo": {
     "elapsed": 2,
     "status": "ok",
     "timestamp": 1739524646964,
     "user": {
      "displayName": "Arvin Esmaeily",
      "userId": "16868971089945601987"
     },
     "user_tz": -60
    },
    "id": "VAVoQXKW9Wal",
    "outputId": "030be82c-d199-4ba7-f7aa-bf5435488657"
   },
   "outputs": [
    {
     "name": "stdout",
     "output_type": "stream",
     "text": [
      "/content/drive/MyDrive/glimpse_modified\n"
     ]
    }
   ],
   "source": [
    "cd /content/drive/MyDrive/glimpse_modified"
   ]
  },
  {
   "cell_type": "markdown",
   "metadata": {
    "id": "2hRDMNXTo5Ej"
   },
   "source": [
    "## Install Requirements"
   ]
  },
  {
   "cell_type": "code",
   "execution_count": null,
   "metadata": {
    "colab": {
     "base_uri": "https://localhost:8080/",
     "height": 1000
    },
    "collapsed": true,
    "executionInfo": {
     "elapsed": 23832,
     "status": "ok",
     "timestamp": 1739524670795,
     "user": {
      "displayName": "Arvin Esmaeily",
      "userId": "16868971089945601987"
     },
     "user_tz": -60
    },
    "id": "jo0S5CXqdgFn",
    "outputId": "701dc93b-8763-43ec-c48e-562b3df30b43"
   },
   "outputs": [],
   "source": [
    "!pip install -r requirements"
   ]
  },
  {
   "cell_type": "markdown",
   "metadata": {
    "id": "gwzCYDlJo7GQ"
   },
   "source": [
    "## Execute Data Processing"
   ]
  },
  {
   "cell_type": "code",
   "execution_count": null,
   "metadata": {
    "colab": {
     "base_uri": "https://localhost:8080/"
    },
    "collapsed": true,
    "executionInfo": {
     "elapsed": 8992,
     "status": "ok",
     "timestamp": 1739048710851,
     "user": {
      "displayName": "Arvin Esmaeily",
      "userId": "16868971089945601987"
     },
     "user_tz": -60
    },
    "id": "6P6VcaY6eejz",
    "outputId": "0595fc9c-6782-44e4-efef-e8db1ed9701b"
   },
   "outputs": [],
   "source": [
    "!python glimpse/data_loading/data_processing.py"
   ]
  },
  {
   "cell_type": "markdown",
   "metadata": {
    "id": "a--AJk8uo_Ma"
   },
   "source": [
    "## Abstractive Candidate Generation"
   ]
  },
  {
   "cell_type": "markdown",
   "metadata": {},
   "source": [
    "### Original"
   ]
  },
  {
   "cell_type": "code",
   "execution_count": null,
   "metadata": {
    "colab": {
     "base_uri": "https://localhost:8080/"
    },
    "collapsed": true,
    "executionInfo": {
     "elapsed": 3410811,
     "status": "ok",
     "timestamp": 1739052477084,
     "user": {
      "displayName": "Arvin Esmaeily",
      "userId": "16868971089945601987"
     },
     "user_tz": -60
    },
    "id": "UJeNb8cmeoL3",
    "outputId": "ff6c1376-4fae-4462-869e-e7d83abee370"
   },
   "outputs": [],
   "source": [
    "!python glimpse/data_loading/generate_abstractive_candidates.py  --dataset_path \"data/processed/all_reviews_2017.csv\" --scripted-run | tail -n 1"
   ]
  },
  {
   "cell_type": "code",
   "execution_count": null,
   "metadata": {
    "colab": {
     "base_uri": "https://localhost:8080/"
    },
    "collapsed": true,
    "executionInfo": {
     "elapsed": 1328348,
     "status": "ok",
     "timestamp": 1739056712310,
     "user": {
      "displayName": "Arvin Esmaeily",
      "userId": "16868971089945601987"
     },
     "user_tz": -60
    },
    "id": "pekicH2NYvI8",
    "outputId": "dd0e92ea-e8e0-418d-bddf-e45d4841605c"
   },
   "outputs": [],
   "source": [
    "!python glimpse/data_loading/generate_abstractive_candidates.py  --dataset_path \"data/processed/all_reviews_2018.csv\" --scripted-run | tail -n 1"
   ]
  },
  {
   "cell_type": "code",
   "execution_count": null,
   "metadata": {
    "colab": {
     "base_uri": "https://localhost:8080/"
    },
    "collapsed": true,
    "executionInfo": {
     "elapsed": 2443637,
     "status": "ok",
     "timestamp": 1739064868882,
     "user": {
      "displayName": "Arvin Esmaeily",
      "userId": "16868971089945601987"
     },
     "user_tz": -60
    },
    "id": "dqgmo7QWYwqd",
    "outputId": "6372c89f-b653-4858-8fce-88a575d67cff"
   },
   "outputs": [],
   "source": [
    "!python glimpse/data_loading/generate_abstractive_candidates.py  --dataset_path \"data/processed/all_reviews_2019.csv\" --scripted-run | tail -n 1"
   ]
  },
  {
   "cell_type": "code",
   "execution_count": null,
   "metadata": {
    "colab": {
     "base_uri": "https://localhost:8080/"
    },
    "collapsed": true,
    "executionInfo": {
     "elapsed": 4012188,
     "status": "ok",
     "timestamp": 1739096314198,
     "user": {
      "displayName": "Arvin Esmaeily",
      "userId": "16868971089945601987"
     },
     "user_tz": -60
    },
    "id": "p4idDVcYY3uz",
    "outputId": "6ee89073-4b3e-40ea-a248-bef6fa1b285d"
   },
   "outputs": [],
   "source": [
    "!python glimpse/data_loading/generate_abstractive_candidates.py  --dataset_path \"data/processed/all_reviews_2020.csv\" --scripted-run | tail -n 1"
   ]
  },
  {
   "cell_type": "markdown",
   "metadata": {},
   "source": [
    "### GPT-2"
   ]
  },
  {
   "cell_type": "code",
   "execution_count": null,
   "metadata": {},
   "outputs": [],
   "source": [
    "!python glimpse/data_loading/generate_abstractive_candidates_gpt2.py  --dataset_path \"data/processed/all_reviews_2017.csv\" --scripted-run | tail -n 1"
   ]
  },
  {
   "cell_type": "code",
   "execution_count": null,
   "metadata": {},
   "outputs": [],
   "source": [
    "!python glimpse/data_loading/generate_abstractive_candidates_gpt2.py  --dataset_path \"data/processed/all_reviews_2018.csv\" --scripted-run | tail -n 1"
   ]
  },
  {
   "cell_type": "code",
   "execution_count": null,
   "metadata": {},
   "outputs": [],
   "source": [
    "!python glimpse/data_loading/generate_abstractive_candidates_gpt2.py  --dataset_path \"data/processed/all_reviews_2019.csv\" --scripted-run | tail -n 1"
   ]
  },
  {
   "cell_type": "code",
   "execution_count": null,
   "metadata": {},
   "outputs": [],
   "source": [
    "!python glimpse/data_loading/generate_abstractive_candidates_gpt2.py  --dataset_path \"data/processed/all_reviews_2020.csv\" --scripted-run | tail -n 1"
   ]
  },
  {
   "cell_type": "markdown",
   "metadata": {
    "id": "-RQTNy7opEqb"
   },
   "source": [
    "## Extractive Candidate Generation"
   ]
  },
  {
   "cell_type": "markdown",
   "metadata": {},
   "source": [
    "### Original"
   ]
  },
  {
   "cell_type": "code",
   "execution_count": null,
   "metadata": {},
   "outputs": [],
   "source": [
    "!python glimpse/data_loading/generate_extractive_candidates.py --dataset_path \"data/processed/all_reviews_2017.csv\" --scripted-run | tail -n 1"
   ]
  },
  {
   "cell_type": "code",
   "execution_count": null,
   "metadata": {
    "colab": {
     "background_save": true
    },
    "id": "-0KzmeWQstWQ",
    "outputId": "621bddb0-8af6-49e6-87ca-b727d1c19d2a"
   },
   "outputs": [],
   "source": [
    "!python glimpse/data_loading/generate_extractive_candidates.py --dataset_path \"data/processed/all_reviews_2018.csv\" --scripted-run | tail -n 1"
   ]
  },
  {
   "cell_type": "code",
   "execution_count": null,
   "metadata": {},
   "outputs": [],
   "source": [
    "!python glimpse/data_loading/generate_extractive_candidates.py --dataset_path \"data/processed/all_reviews_2019.csv\" --scripted-run | tail -n 1"
   ]
  },
  {
   "cell_type": "code",
   "execution_count": null,
   "metadata": {},
   "outputs": [],
   "source": [
    "!python glimpse/data_loading/generate_extractive_candidates.py --dataset_path \"data/processed/all_reviews_2020.csv\" --scripted-run | tail -n 1"
   ]
  },
  {
   "cell_type": "markdown",
   "metadata": {},
   "source": [
    "### Clustering"
   ]
  },
  {
   "cell_type": "code",
   "execution_count": null,
   "metadata": {},
   "outputs": [],
   "source": [
    "!python glimpse/data_loading/generate_extractive_candidates_clustering.py --dataset_path \"data/processed/all_reviews_2017.csv\" --scripted-run | tail -n 1"
   ]
  },
  {
   "cell_type": "code",
   "execution_count": null,
   "metadata": {},
   "outputs": [],
   "source": [
    "!python glimpse/data_loading/generate_extractive_candidates_clustering.py --dataset_path \"data/processed/all_reviews_2018.csv\" --scripted-run | tail -n 1"
   ]
  },
  {
   "cell_type": "code",
   "execution_count": null,
   "metadata": {},
   "outputs": [],
   "source": [
    "!python glimpse/data_loading/generate_extractive_candidates_clustering.py --dataset_path \"data/processed/all_reviews_2019.csv\" --scripted-run | tail -n 1"
   ]
  },
  {
   "cell_type": "code",
   "execution_count": null,
   "metadata": {},
   "outputs": [],
   "source": [
    "!python glimpse/data_loading/generate_extractive_candidates_clustering.py --dataset_path \"data/processed/all_reviews_2020.csv\" --scripted-run | tail -n 1"
   ]
  },
  {
   "cell_type": "markdown",
   "metadata": {},
   "source": [
    "### TF-IDF"
   ]
  },
  {
   "cell_type": "code",
   "execution_count": null,
   "metadata": {},
   "outputs": [],
   "source": [
    "!python glimpse/data_loading/generate_extractive_candidates_tfidf.py --dataset_path \"data/processed/all_reviews_2017.csv\" --scripted-run | tail -n 1"
   ]
  },
  {
   "cell_type": "code",
   "execution_count": null,
   "metadata": {},
   "outputs": [],
   "source": [
    "!python glimpse/data_loading/generate_extractive_candidates_tfidf.py --dataset_path \"data/processed/all_reviews_2018.csv\" --scripted-run | tail -n 1"
   ]
  },
  {
   "cell_type": "code",
   "execution_count": null,
   "metadata": {},
   "outputs": [],
   "source": [
    "!python glimpse/data_loading/generate_extractive_candidates_tfidf.py --dataset_path \"data/processed/all_reviews_2019.csv\" --scripted-run | tail -n 1"
   ]
  },
  {
   "cell_type": "code",
   "execution_count": null,
   "metadata": {},
   "outputs": [],
   "source": [
    "!python glimpse/data_loading/generate_extractive_candidates_tfidf.py --dataset_path \"data/processed/all_reviews_2020.csv\" --scripted-run | tail -n 1"
   ]
  },
  {
   "cell_type": "markdown",
   "metadata": {},
   "source": [
    "### Dynamic TF-IDF"
   ]
  },
  {
   "cell_type": "code",
   "execution_count": null,
   "metadata": {},
   "outputs": [],
   "source": [
    "!python glimpse/data_loading/generate_extractive_candidates_dynamic_tfidf.py --dataset_path \"data/processed/all_reviews_2017.csv\" --scripted-run | tail -n 1"
   ]
  },
  {
   "cell_type": "code",
   "execution_count": null,
   "metadata": {},
   "outputs": [],
   "source": [
    "!python glimpse/data_loading/generate_extractive_candidates_dynamic_tfidf.py --dataset_path \"data/processed/all_reviews_2018.csv\" --scripted-run | tail -n 1"
   ]
  },
  {
   "cell_type": "code",
   "execution_count": null,
   "metadata": {},
   "outputs": [],
   "source": [
    "!python glimpse/data_loading/generate_extractive_candidates_dynamic_tfidf.py --dataset_path \"data/processed/all_reviews_2019.csv\" --scripted-run | tail -n 1"
   ]
  },
  {
   "cell_type": "code",
   "execution_count": null,
   "metadata": {},
   "outputs": [],
   "source": [
    "!python glimpse/data_loading/generate_extractive_candidates_dynamic_tfidf.py --dataset_path \"data/processed/all_reviews_2020.csv\" --scripted-run | tail -n 1"
   ]
  },
  {
   "cell_type": "markdown",
   "metadata": {
    "id": "mslKlGp4pG_3"
   },
   "source": [
    "## Compute RSA"
   ]
  },
  {
   "cell_type": "markdown",
   "metadata": {
    "id": "AKWpwgPYeQfO"
   },
   "source": [
    "### Abstractive"
   ]
  },
  {
   "cell_type": "markdown",
   "metadata": {},
   "source": [
    "Run the following code for each generated candidate dataset by Abstractive methods"
   ]
  },
  {
   "cell_type": "code",
   "execution_count": null,
   "metadata": {
    "id": "N1oGGM6EeaHq"
   },
   "outputs": [],
   "source": [
    "!python glimpse/src/compute_rsa.py --summaries \"\" | tail -n 1"
   ]
  },
  {
   "cell_type": "markdown",
   "metadata": {
    "id": "ZpG0VuvReR_6"
   },
   "source": [
    "### Extracative"
   ]
  },
  {
   "cell_type": "markdown",
   "metadata": {},
   "source": [
    "Run the following code for each generated candidate dataset by Extractive methods"
   ]
  },
  {
   "cell_type": "code",
   "execution_count": null,
   "metadata": {
    "colab": {
     "base_uri": "https://localhost:8080/"
    },
    "collapsed": true,
    "id": "rnDC6saEeTMW",
    "outputId": "193c51c4-832d-4983-d1a8-38ddc633a144"
   },
   "outputs": [],
   "source": [
    "!python glimpse/src/compute_rsa.py --summaries \"\" | tail -n 1"
   ]
  }
 ],
 "metadata": {
  "colab": {
   "collapsed_sections": [
    "2hRDMNXTo5Ej",
    "gwzCYDlJo7GQ",
    "a--AJk8uo_Ma",
    "-RQTNy7opEqb",
    "mslKlGp4pG_3",
    "iOnB3XHKeVnX",
    "AHRfbpreB_UN",
    "uj4In7RyBf5W",
    "HZyCIum_JP2H",
    "H7bRoY_HJTMY"
   ],
   "provenance": []
  },
  "kernelspec": {
   "display_name": "Python 3",
   "name": "python3"
  },
  "language_info": {
   "codemirror_mode": {
    "name": "ipython",
    "version": 3
   },
   "file_extension": ".py",
   "mimetype": "text/x-python",
   "name": "python",
   "nbconvert_exporter": "python",
   "pygments_lexer": "ipython3",
   "version": "3.12.8"
  }
 },
 "nbformat": 4,
 "nbformat_minor": 0
}
